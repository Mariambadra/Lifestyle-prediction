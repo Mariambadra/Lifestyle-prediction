{
 "cells": [
  {
   "cell_type": "markdown",
   "id": "71289a4d",
   "metadata": {},
   "source": [
    "### Liberaries Importing"
   ]
  },
  {
   "cell_type": "code",
   "execution_count": null,
   "id": "cd3c7e9d",
   "metadata": {},
   "outputs": [],
   "source": [
    "import pandas as pd\n",
    "import numpy as np"
   ]
  },
  {
   "cell_type": "markdown",
   "id": "d49b078c",
   "metadata": {},
   "source": [
    "### Data Importing"
   ]
  },
  {
   "cell_type": "code",
   "execution_count": null,
   "id": "ad83f7fa",
   "metadata": {},
   "outputs": [],
   "source": [
    "df = pd.read_csv('user_data_unlceaned.csv',index_col=0)\n",
    "pd.set_option('display.max_rows',500)\n",
    "pd.set_option('display.max_columns',500)"
   ]
  },
  {
   "cell_type": "code",
   "execution_count": null,
   "id": "42250210",
   "metadata": {},
   "outputs": [],
   "source": [
    "df.columns"
   ]
  },
  {
   "cell_type": "code",
   "execution_count": null,
   "id": "93ae0152",
   "metadata": {
    "scrolled": true
   },
   "outputs": [],
   "source": [
    "df.head()"
   ]
  },
  {
   "cell_type": "code",
   "execution_count": null,
   "id": "39658c72",
   "metadata": {},
   "outputs": [],
   "source": [
    "df.shape"
   ]
  },
  {
   "cell_type": "markdown",
   "id": "4c475ddf",
   "metadata": {},
   "source": [
    "### Data Cleaning"
   ]
  },
  {
   "cell_type": "code",
   "execution_count": null,
   "id": "046e58ec",
   "metadata": {
    "scrolled": true
   },
   "outputs": [],
   "source": [
    "df.info()"
   ]
  },
  {
   "cell_type": "markdown",
   "id": "3db56841",
   "metadata": {},
   "source": [
    "The first thing can be noticed from the previous output is that the `Average Monthly Spend on Entertainment` data type is object when it should be integer.\n",
    "The second thing is the null values in the `lifestyle choice` column"
   ]
  },
  {
   "cell_type": "code",
   "execution_count": null,
   "id": "f40ef80d",
   "metadata": {},
   "outputs": [],
   "source": [
    "#exploring the Average Monthly Spend on Entertainment column\n",
    "df['Average Monthly Spend on Entertainment'].head()"
   ]
  },
  {
   "cell_type": "markdown",
   "id": "281f96cf",
   "metadata": {},
   "source": [
    "OK, We found the issue.\n",
    "The currency sign beside the number is the reason why the column's data type is `object`.\n",
    "lets get rid of it."
   ]
  },
  {
   "cell_type": "code",
   "execution_count": null,
   "id": "0598df97",
   "metadata": {},
   "outputs": [],
   "source": [
    "# firstly, let's make sure that there is no other currancy sign except the $ sign\n",
    "currancy_sign = r'[€£¥₹¢]'\n",
    "other_currancy = df['Average Monthly Spend on Entertainment'].str.contains(currancy_sign)\n",
    "other_currancy.sum()"
   ]
  },
  {
   "cell_type": "code",
   "execution_count": null,
   "id": "4caa5523",
   "metadata": {},
   "outputs": [],
   "source": [
    "# removing the $ sign from the `Average Monthly Spend on Entertainment` column\n",
    "df['Average Monthly Spend on Entertainment'] = df['Average Monthly Spend on Entertainment'].str.replace('$',\"\").astype(float)"
   ]
  },
  {
   "cell_type": "code",
   "execution_count": null,
   "id": "d8b892bb",
   "metadata": {},
   "outputs": [],
   "source": [
    "df['Average Monthly Spend on Entertainment'].head()"
   ]
  },
  {
   "cell_type": "code",
   "execution_count": null,
   "id": "dce86339",
   "metadata": {},
   "outputs": [],
   "source": [
    "#now, let's work on `Lifestyle Choice` column\n",
    "#first, we need to count the null values\n",
    "df['Lifestyle Choice'].isna().sum()"
   ]
  },
  {
   "cell_type": "code",
   "execution_count": null,
   "id": "b5ff5501",
   "metadata": {},
   "outputs": [],
   "source": [
    "# The 9 values are not significant enough to impact the dataset, so we will drop them.\n",
    "df.dropna(inplace=True)"
   ]
  },
  {
   "cell_type": "code",
   "execution_count": null,
   "id": "458940e7",
   "metadata": {},
   "outputs": [],
   "source": [
    "df.info()"
   ]
  },
  {
   "cell_type": "code",
   "execution_count": null,
   "id": "a257061f",
   "metadata": {},
   "outputs": [],
   "source": [
    "#now, lets explore the other columns\n",
    "df.head(10)"
   ]
  },
  {
   "cell_type": "markdown",
   "id": "e932a31b",
   "metadata": {},
   "source": [
    "I've noticed inconsistencies in the Gender column, with some values represented as ('M', 'F') and others as ('female', 'male').  so let's unify these."
   ]
  },
  {
   "cell_type": "code",
   "execution_count": null,
   "id": "80e2e970",
   "metadata": {},
   "outputs": [],
   "source": [
    "#check value counts in the gender columns\n",
    "df['Gender'].value_counts()"
   ]
  },
  {
   "cell_type": "code",
   "execution_count": null,
   "id": "4eb23863",
   "metadata": {},
   "outputs": [],
   "source": [
    "df['Gender'] = df['Gender'].str.replace('female','F').replace('male','M')"
   ]
  },
  {
   "cell_type": "code",
   "execution_count": null,
   "id": "218638fa",
   "metadata": {},
   "outputs": [],
   "source": [
    "df['Gender'].value_counts()"
   ]
  },
  {
   "cell_type": "code",
   "execution_count": null,
   "id": "c8421cc3",
   "metadata": {},
   "outputs": [],
   "source": [
    "#now, let's check if there is any duplicate in the dataset\n",
    "\n",
    "df.duplicated().sum()"
   ]
  },
  {
   "cell_type": "markdown",
   "id": "fe516b99",
   "metadata": {},
   "source": [
    "No duplicates"
   ]
  },
  {
   "cell_type": "code",
   "execution_count": null,
   "id": "a76059db",
   "metadata": {},
   "outputs": [],
   "source": [
    "#checking duplicates amonge [['First Name','Last Name', 'Age', 'Gender']] columns\n",
    "\n",
    "df[['First Name','Last Name', 'Age', 'Gender']].duplicated().sum()"
   ]
  },
  {
   "cell_type": "markdown",
   "id": "4011504f",
   "metadata": {},
   "source": [
    "We need to check if these duplications are for the same people or just by chance, we going to check this by adding the `Location` column to the duplication check function."
   ]
  },
  {
   "cell_type": "code",
   "execution_count": null,
   "id": "4c060de1",
   "metadata": {},
   "outputs": [],
   "source": [
    "df[['First Name','Last Name', 'Age', 'Gender','Location']].duplicated().sum()"
   ]
  },
  {
   "cell_type": "markdown",
   "id": "ac9b1a84",
   "metadata": {},
   "source": [
    "Ok, so we are gonna drop these 13 records to reduce redundancy as possible."
   ]
  },
  {
   "cell_type": "code",
   "execution_count": null,
   "id": "c8bd3e69",
   "metadata": {},
   "outputs": [],
   "source": [
    "df.drop_duplicates(subset=['First Name', 'Last Name', 'Age', 'Gender', 'Location'], inplace=True)\n"
   ]
  },
  {
   "cell_type": "markdown",
   "id": "e9102efd",
   "metadata": {},
   "source": [
    "After investigating the data more, we found that `Location` is a multivalue column. So, we need to expand this column to make the data exploration, aggregation, analysis more eaiser."
   ]
  },
  {
   "cell_type": "code",
   "execution_count": null,
   "id": "3eb7f3fa",
   "metadata": {},
   "outputs": [],
   "source": [
    "#creating City, State, Country from the Location dataset\n",
    "\n",
    "df[['City', 'State', 'Country']]  = df['Location'].str.lstrip().str.split(',',n=2, expand=True)"
   ]
  },
  {
   "cell_type": "code",
   "execution_count": null,
   "id": "bc3a977c",
   "metadata": {},
   "outputs": [],
   "source": [
    "df.columns"
   ]
  },
  {
   "cell_type": "markdown",
   "id": "355ba14c",
   "metadata": {},
   "source": [
    "Now, we can drop `Location` column to prevent redundancy.\n"
   ]
  },
  {
   "cell_type": "code",
   "execution_count": null,
   "id": "feb23aa8",
   "metadata": {},
   "outputs": [],
   "source": [
    "#drop Location column\n",
    "df.drop(columns=['Location'],inplace=True)"
   ]
  },
  {
   "cell_type": "code",
   "execution_count": null,
   "id": "6e0afd05",
   "metadata": {},
   "outputs": [],
   "source": [
    "#Rounding ['Number of Charity Donations in Last Year','Number of Professional Trainings Attended']\n",
    "\n",
    "r_col = ['Number of Charity Donations in Last Year','Number of Professional Trainings Attended']\n",
    "df[r_col] = df[r_col].round().astype(int)\n"
   ]
  },
  {
   "cell_type": "code",
   "execution_count": null,
   "id": "de9e9f18",
   "metadata": {},
   "outputs": [],
   "source": [
    "df.info()"
   ]
  },
  {
   "cell_type": "markdown",
   "id": "a6015348",
   "metadata": {},
   "source": [
    "### DataBase Normalization"
   ]
  },
  {
   "cell_type": "markdown",
   "id": "37e3ed3a",
   "metadata": {},
   "source": [
    "Our data after cleaning is 32-column, so it's worth cosidering normalization to facilitate the upcoming data analysis and visulization, as well as, making storing data in a rational database easier.\n",
    "So we are gonna expand the `df` into 3 tables one for `Location` entity, the other for `User_details` entity, and the last one is our main table which is `Lifestyles`."
   ]
  },
  {
   "cell_type": "code",
   "execution_count": null,
   "id": "04e06651",
   "metadata": {},
   "outputs": [],
   "source": [
    "#creating Location_df\n",
    "\n",
    "location_df = df[['City','State','Country']].drop_duplicates()\n",
    "location_df['Location_ID'] = location_df.index+1\n",
    "location_df.head()"
   ]
  },
  {
   "cell_type": "code",
   "execution_count": null,
   "id": "2dc4268e",
   "metadata": {},
   "outputs": [],
   "source": [
    "#add Location_id to our main table to use it as a foriegn key\n",
    "\n",
    "lifestyle_df = df.merge(location_df,on=['City','State','Country'])"
   ]
  },
  {
   "cell_type": "code",
   "execution_count": null,
   "id": "73405f7b",
   "metadata": {},
   "outputs": [],
   "source": [
    "#Checking df columns\n",
    "lifestyle_df.columns"
   ]
  },
  {
   "cell_type": "code",
   "execution_count": null,
   "id": "05b7bf19",
   "metadata": {},
   "outputs": [],
   "source": [
    "#Now we can delete location deletes from the main table\n",
    "lifestyle_df.drop(columns = ['City','State','Country'],inplace=True)"
   ]
  },
  {
   "cell_type": "code",
   "execution_count": null,
   "id": "bab9aaf6",
   "metadata": {},
   "outputs": [],
   "source": [
    "lifestyle_df.shape"
   ]
  },
  {
   "cell_type": "code",
   "execution_count": null,
   "id": "dd8d20bf",
   "metadata": {},
   "outputs": [],
   "source": [
    "#creating User_details table\n",
    "user_details = lifestyle_df[['First Name','Last Name', 'Age', 'Gender','Location_ID']]\n",
    "user_details = user_details.copy()\n",
    "user_details['User_ID'] = user_details.index + 1\n",
    "user_details.head()"
   ]
  },
  {
   "cell_type": "code",
   "execution_count": null,
   "id": "415dffba",
   "metadata": {},
   "outputs": [],
   "source": [
    "#add User_id to our main table to use it as a foriegn key\n",
    "\n",
    "lifestyle_df = lifestyle_df.merge(user_details,on=['First Name','Last Name', 'Age', 'Gender','Location_ID'])"
   ]
  },
  {
   "cell_type": "code",
   "execution_count": null,
   "id": "21bc5fdf",
   "metadata": {},
   "outputs": [],
   "source": [
    "lifestyle_df.columns"
   ]
  },
  {
   "cell_type": "code",
   "execution_count": null,
   "id": "91150680",
   "metadata": {},
   "outputs": [],
   "source": [
    "lifestyle_df.drop(columns = ['First Name','Last Name', 'Age', 'Gender','Location_ID'],inplace=True)"
   ]
  },
  {
   "cell_type": "code",
   "execution_count": null,
   "id": "a814d02c",
   "metadata": {},
   "outputs": [],
   "source": [
    "lifestyle_df.columns"
   ]
  },
  {
   "cell_type": "markdown",
   "id": "6eaa36f9",
   "metadata": {},
   "source": [
    "### Date Exporting"
   ]
  },
  {
   "cell_type": "code",
   "execution_count": null,
   "id": "4667de00",
   "metadata": {},
   "outputs": [],
   "source": [
    "df.to_csv('user_data_CLEANED.csv')"
   ]
  },
  {
   "cell_type": "code",
   "execution_count": null,
   "id": "a743bae7",
   "metadata": {},
   "outputs": [],
   "source": [
    "lifestyle_df.to_csv('lifestyle_df.csv')"
   ]
  },
  {
   "cell_type": "code",
   "execution_count": null,
   "id": "27c1d32c",
   "metadata": {},
   "outputs": [],
   "source": [
    "location_df.to_csv('location_df.csv', index=False)"
   ]
  },
  {
   "cell_type": "code",
   "execution_count": null,
   "id": "b72dfae0",
   "metadata": {},
   "outputs": [],
   "source": [
    "user_details.to_csv('user_details.csv', index=False)"
   ]
  }
 ],
 "metadata": {
  "kernelspec": {
   "display_name": "Python 3 (ipykernel)",
   "language": "python",
   "name": "python3"
  },
  "language_info": {
   "codemirror_mode": {
    "name": "ipython",
    "version": 3
   },
   "file_extension": ".py",
   "mimetype": "text/x-python",
   "name": "python",
   "nbconvert_exporter": "python",
   "pygments_lexer": "ipython3",
   "version": "3.10.13"
  }
 },
 "nbformat": 4,
 "nbformat_minor": 5
}
